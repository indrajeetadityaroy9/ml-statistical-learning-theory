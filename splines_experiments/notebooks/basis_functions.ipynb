{
 "cells": [
  {
   "cell_type": "markdown",
   "metadata": {},
   "source": [
    "# Truncated Power Basis Functions\n",
    "\n",
    "## Mathematical Background\n",
    "\n",
    "For a k-th order spline with knots at $t_1 < \\dots < t_m$, the truncated power basis consists of $(m+k+1)$ functions:\n",
    "\n",
    "- Polynomial terms: $g_1(x) = 1, g_2(x) = x, \\dots, g_{k+1}(x) = x^k$\n",
    "- Truncated power terms: $g_{k+1+j}(x) = (x - t_j)_+^k$, for $j = 1, \\dots, m$\n",
    "\n",
    "where $(x)_+ = \\max(x, 0)$ is the positive part function."
   ]
  },
  {
   "cell_type": "code",
   "execution_count": null,
   "metadata": {},
   "outputs": [],
   "source": [
    "import numpy as np\n",
    "import matplotlib.pyplot as plt\n",
    "import sys\n",
    "sys.path.append('../src')\n",
    "\n",
    "from splines import truncated_power, truncated_power_basis_matrix\n",
    "from utils import plot_basis_functions\n",
    "\n",
    "%matplotlib inline\n",
    "plt.style.use('seaborn-v0_8-darkgrid')"
   ]
  },
  {
   "cell_type": "markdown",
   "metadata": {},
   "source": [
    "## 1. Visualize Truncated Power Function\n",
    "\n",
    "Let's first visualize the basic building block: $(x - t)_+^k$ for different degrees."
   ]
  },
  {
   "cell_type": "code",
   "execution_count": null,
   "metadata": {},
   "outputs": [],
   "source": [
    "# Create evaluation points\n",
    "x = np.linspace(-2, 3, 500)\n",
    "knot = 0.5\n",
    "\n",
    "# Compute truncated power for different degrees\n",
    "fig, axes = plt.subplots(1, 3, figsize=(15, 4))\n",
    "\n",
    "degrees = [1, 2, 3]\n",
    "for ax, degree in zip(axes, degrees):\n",
    "    y = truncated_power(x, knot, degree)\n",
    "    ax.plot(x, y, linewidth=2)\n",
    "    ax.axvline(knot, color='r', linestyle='--', alpha=0.5, label=f'knot at {knot}')\n",
    "    ax.set_title(f'$(x - {knot})_+^{degree}$', fontsize=14)\n",
    "    ax.set_xlabel('x')\n",
    "    ax.set_ylabel('y')\n",
    "    ax.legend()\n",
    "    ax.grid(True, alpha=0.3)\n",
    "\n",
    "plt.tight_layout()\n",
    "plt.show()"
   ]
  },
  {
   "cell_type": "markdown",
   "metadata": {},
   "source": [
    "## 2. Cubic Spline Basis Functions\n",
    "\n",
    "For **cubic splines** (degree 3) with 3 interior knots, we have $3 + 3 + 1 = 7$ basis functions:\n",
    "- $g_1(x) = 1$\n",
    "- $g_2(x) = x$\n",
    "- $g_3(x) = x^2$\n",
    "- $g_4(x) = x^3$\n",
    "- $g_5(x) = (x - t_1)_+^3$\n",
    "- $g_6(x) = (x - t_2)_+^3$\n",
    "- $g_7(x) = (x - t_3)_+^3$"
   ]
  },
  {
   "cell_type": "code",
   "execution_count": null,
   "metadata": {},
   "outputs": [],
   "source": [
    "# Setup\n",
    "x = np.linspace(0, 10, 500)\n",
    "knots = np.array([3.0, 5.0, 7.0])\n",
    "degree = 3  # Cubic\n",
    "\n",
    "# Compute basis matrix\n",
    "basis_matrix = truncated_power_basis_matrix(x, knots, degree)\n",
    "\n",
    "print(f\"Basis matrix shape: {basis_matrix.shape}\")\n",
    "print(f\"Number of basis functions: {basis_matrix.shape[1]}\")\n",
    "print(f\"Expected: m + k + 1 = {len(knots)} + {degree} + 1 = {len(knots) + degree + 1}\")"
   ]
  },
  {
   "cell_type": "code",
   "execution_count": null,
   "metadata": {},
   "outputs": [],
   "source": [
    "# Plot all basis functions\n",
    "fig = plot_basis_functions(x, basis_matrix, knots, \n",
    "                           title=\"Cubic Spline Basis Functions (Truncated Power Basis)\",\n",
    "                           max_functions=7)\n",
    "plt.show()"
   ]
  },
  {
   "cell_type": "markdown",
   "metadata": {},
   "source": [
    "## 3. Polynomial Terms vs Truncated Terms\n",
    "\n",
    "Let's separate and visualize the polynomial terms and truncated power terms."
   ]
  },
  {
   "cell_type": "code",
   "execution_count": null,
   "metadata": {},
   "outputs": [],
   "source": [
    "fig, axes = plt.subplots(1, 2, figsize=(15, 5))\n",
    "\n",
    "# Polynomial terms: 1, x, x^2, x^3\n",
    "ax = axes[0]\n",
    "for i in range(degree + 1):\n",
    "    ax.plot(x, basis_matrix[:, i], label=f'$x^{i}$', linewidth=2)\n",
    "ax.set_title('Polynomial Terms', fontsize=14)\n",
    "ax.set_xlabel('x')\n",
    "ax.set_ylabel('Basis value')\n",
    "ax.legend()\n",
    "ax.grid(True, alpha=0.3)\n",
    "\n",
    "# Truncated power terms: (x - t_j)_+^3\n",
    "ax = axes[1]\n",
    "for j, knot in enumerate(knots):\n",
    "    ax.plot(x, basis_matrix[:, degree + 1 + j], label=f'$(x - {knot})_+^3$', linewidth=2)\n",
    "    ax.axvline(knot, color='red', linestyle='--', alpha=0.3)\n",
    "ax.set_title('Truncated Power Terms', fontsize=14)\n",
    "ax.set_xlabel('x')\n",
    "ax.set_ylabel('Basis value')\n",
    "ax.legend()\n",
    "ax.grid(True, alpha=0.3)\n",
    "\n",
    "plt.tight_layout()\n",
    "plt.show()"
   ]
  },
  {
   "cell_type": "markdown",
   "metadata": {},
   "source": [
    "## 4. Effect of Polynomial Degree\n",
    "\n",
    "Compare basis functions for different polynomial degrees (linear, quadratic, cubic)."
   ]
  },
  {
   "cell_type": "code",
   "execution_count": null,
   "metadata": {},
   "outputs": [],
   "source": [
    "x = np.linspace(0, 10, 500)\n",
    "knots = np.array([3.0, 5.0, 7.0])\n",
    "degrees = [1, 2, 3]\n",
    "\n",
    "fig, axes = plt.subplots(1, 3, figsize=(18, 5))\n",
    "\n",
    "for ax, degree in zip(axes, degrees):\n",
    "    basis_matrix = truncated_power_basis_matrix(x, knots, degree)\n",
    "    \n",
    "    # Plot each basis function\n",
    "    for i in range(basis_matrix.shape[1]):\n",
    "        ax.plot(x, basis_matrix[:, i], alpha=0.7)\n",
    "    \n",
    "    # Mark knots\n",
    "    for knot in knots:\n",
    "        ax.axvline(knot, color='r', linestyle='--', alpha=0.2)\n",
    "    \n",
    "    ax.set_title(f'Degree {degree} Spline Basis\\n({len(knots) + degree + 1} functions)', fontsize=12)\n",
    "    ax.set_xlabel('x')\n",
    "    ax.set_ylabel('Basis value')\n",
    "    ax.grid(True, alpha=0.3)\n",
    "\n",
    "plt.tight_layout()\n",
    "plt.show()"
   ]
  },
  {
   "cell_type": "markdown",
   "metadata": {},
   "source": [
    "## 5. Constructing a Spline from Basis Functions\n",
    "\n",
    "Any spline can be written as a linear combination of basis functions:\n",
    "$$f(x) = \\sum_{j=1}^{m+k+1} \\beta_j g_j(x)$$\n",
    "\n",
    "Let's create a spline by choosing coefficients manually."
   ]
  },
  {
   "cell_type": "code",
   "execution_count": null,
   "metadata": {},
   "outputs": [],
   "source": [
    "# Setup\n",
    "x = np.linspace(0, 10, 500)\n",
    "knots = np.array([3.0, 5.0, 7.0])\n",
    "degree = 3\n",
    "\n",
    "# Get basis matrix\n",
    "G = truncated_power_basis_matrix(x, knots, degree)\n",
    "\n",
    "# Choose some coefficients (manually)\n",
    "beta = np.array([1.0, 0.5, -0.1, 0.01, 0.2, -0.3, 0.15])\n",
    "\n",
    "# Construct spline: f(x) = sum(beta_j * g_j(x))\n",
    "f_x = G @ beta\n",
    "\n",
    "# Plot\n",
    "fig, ax = plt.subplots(figsize=(10, 6))\n",
    "ax.plot(x, f_x, linewidth=3, label='Spline $f(x) = \\sum \\\\beta_j g_j(x)$')\n",
    "\n",
    "# Mark knots\n",
    "for knot in knots:\n",
    "    ax.axvline(knot, color='r', linestyle='--', alpha=0.3, linewidth=2)\n",
    "\n",
    "ax.set_xlabel('x', fontsize=12)\n",
    "ax.set_ylabel('f(x)', fontsize=12)\n",
    "ax.set_title('Spline as Linear Combination of Basis Functions', fontsize=14)\n",
    "ax.legend(fontsize=12)\n",
    "ax.grid(True, alpha=0.3)\n",
    "plt.show()\n",
    "\n",
    "print(\"Coefficients β:\")\n",
    "for i, b in enumerate(beta):\n",
    "    print(f\"  β_{i+1} = {b:.3f}\")"
   ]
  },
  {
   "cell_type": "markdown",
   "metadata": {},
   "source": [
    "## Key Takeaways\n",
    "\n",
    "1. **Truncated power basis** provides a natural parametrization for splines\n",
    "2. For degree $k$ with $m$ knots, we need $m + k + 1$ basis functions\n",
    "3. The basis consists of:\n",
    "   - Global polynomial terms: $1, x, x^2, \\dots, x^k$\n",
    "   - Local truncated terms: $(x - t_j)_+^k$ that \"activate\" at each knot\n",
    "4. Higher degree → more basis functions → more flexible splines\n",
    "5. Cubic splines (degree 3) are most common in practice"
   ]
  }
 ],
 "metadata": {
  "kernelspec": {
   "display_name": "Python 3",
   "language": "python",
   "name": "python3"
  },
  "language_info": {
   "codemirror_mode": {
    "name": "ipython",
    "version": 3
   },
   "file_extension": ".py",
   "mimetype": "text/x-python",
   "name": "python",
   "nbconvert_exporter": "python",
   "pygments_lexer": "ipython3",
   "version": "3.11.3"
  }
 },
 "nbformat": 4,
 "nbformat_minor": 4
}
